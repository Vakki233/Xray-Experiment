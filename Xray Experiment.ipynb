{
 "cells": [
  {
   "cell_type": "code",
   "execution_count": 1,
   "metadata": {},
   "outputs": [],
   "source": [
    "import numpy as np\n",
    "import pandas as pd\n",
    "import matplotlib as mpl\n",
    "import matplotlib.pyplot as plt"
   ]
  },
  {
   "cell_type": "markdown",
   "metadata": {},
   "source": [
    "## Preliminary K alpha lines analysis"
   ]
  },
  {
   "cell_type": "code",
   "execution_count": 2,
   "metadata": {},
   "outputs": [
    {
     "data": {
      "text/html": [
       "<div>\n",
       "<style scoped>\n",
       "    .dataframe tbody tr th:only-of-type {\n",
       "        vertical-align: middle;\n",
       "    }\n",
       "\n",
       "    .dataframe tbody tr th {\n",
       "        vertical-align: top;\n",
       "    }\n",
       "\n",
       "    .dataframe thead th {\n",
       "        text-align: right;\n",
       "    }\n",
       "</style>\n",
       "<table border=\"1\" class=\"dataframe\">\n",
       "  <thead>\n",
       "    <tr style=\"text-align: right;\">\n",
       "      <th></th>\n",
       "      <th>Ato</th>\n",
       "      <th>Kline</th>\n",
       "      <th>Uncertainty</th>\n",
       "      <th>Energy(keV)</th>\n",
       "      <th>FWHM</th>\n",
       "    </tr>\n",
       "  </thead>\n",
       "  <tbody>\n",
       "    <tr>\n",
       "      <td>0</td>\n",
       "      <td>17</td>\n",
       "      <td>319.91</td>\n",
       "      <td>5.53</td>\n",
       "      <td>2.62239</td>\n",
       "      <td>19.2335</td>\n",
       "    </tr>\n",
       "    <tr>\n",
       "      <td>1</td>\n",
       "      <td>22</td>\n",
       "      <td>540.14</td>\n",
       "      <td>0.36</td>\n",
       "      <td>4.51080</td>\n",
       "      <td>24.2249</td>\n",
       "    </tr>\n",
       "    <tr>\n",
       "      <td>2</td>\n",
       "      <td>24</td>\n",
       "      <td>646.27</td>\n",
       "      <td>0.47</td>\n",
       "      <td>5.41470</td>\n",
       "      <td>25.4010</td>\n",
       "    </tr>\n",
       "    <tr>\n",
       "      <td>3</td>\n",
       "      <td>26</td>\n",
       "      <td>761.83</td>\n",
       "      <td>0.54</td>\n",
       "      <td>6.40380</td>\n",
       "      <td>25.8590</td>\n",
       "    </tr>\n",
       "    <tr>\n",
       "      <td>4</td>\n",
       "      <td>28</td>\n",
       "      <td>888.28</td>\n",
       "      <td>0.42</td>\n",
       "      <td>7.47810</td>\n",
       "      <td>26.6226</td>\n",
       "    </tr>\n",
       "    <tr>\n",
       "      <td>5</td>\n",
       "      <td>29</td>\n",
       "      <td>954.62</td>\n",
       "      <td>0.36</td>\n",
       "      <td>8.04770</td>\n",
       "      <td>27.9838</td>\n",
       "    </tr>\n",
       "    <tr>\n",
       "      <td>6</td>\n",
       "      <td>30</td>\n",
       "      <td>1024.15</td>\n",
       "      <td>0.27</td>\n",
       "      <td>8.63880</td>\n",
       "      <td>28.2923</td>\n",
       "    </tr>\n",
       "    <tr>\n",
       "      <td>7</td>\n",
       "      <td>47</td>\n",
       "      <td>2602.78</td>\n",
       "      <td>0.75</td>\n",
       "      <td>22.16290</td>\n",
       "      <td>38.6308</td>\n",
       "    </tr>\n",
       "    <tr>\n",
       "      <td>8</td>\n",
       "      <td>48</td>\n",
       "      <td>2720.37</td>\n",
       "      <td>0.57</td>\n",
       "      <td>23.17360</td>\n",
       "      <td>41.4460</td>\n",
       "    </tr>\n",
       "    <tr>\n",
       "      <td>9</td>\n",
       "      <td>50</td>\n",
       "      <td>2963.52</td>\n",
       "      <td>0.61</td>\n",
       "      <td>25.27130</td>\n",
       "      <td>45.7194</td>\n",
       "    </tr>\n",
       "    <tr>\n",
       "      <td>10</td>\n",
       "      <td>64</td>\n",
       "      <td>5045.04</td>\n",
       "      <td>2.59</td>\n",
       "      <td>42.99620</td>\n",
       "      <td>30.9372</td>\n",
       "    </tr>\n",
       "  </tbody>\n",
       "</table>\n",
       "</div>"
      ],
      "text/plain": [
       "    Ato    Kline  Uncertainty  Energy(keV)     FWHM\n",
       "0    17   319.91         5.53      2.62239  19.2335\n",
       "1    22   540.14         0.36      4.51080  24.2249\n",
       "2    24   646.27         0.47      5.41470  25.4010\n",
       "3    26   761.83         0.54      6.40380  25.8590\n",
       "4    28   888.28         0.42      7.47810  26.6226\n",
       "5    29   954.62         0.36      8.04770  27.9838\n",
       "6    30  1024.15         0.27      8.63880  28.2923\n",
       "7    47  2602.78         0.75     22.16290  38.6308\n",
       "8    48  2720.37         0.57     23.17360  41.4460\n",
       "9    50  2963.52         0.61     25.27130  45.7194\n",
       "10   64  5045.04         2.59     42.99620  30.9372"
      ]
     },
     "execution_count": 2,
     "metadata": {},
     "output_type": "execute_result"
    }
   ],
   "source": [
    "K_alpha = pd.read_csv(\"K-alpha analysis.csv\")\n",
    "K_alpha"
   ]
  },
  {
   "cell_type": "code",
   "execution_count": 3,
   "metadata": {},
   "outputs": [],
   "source": [
    "def slp_yitcp_error(x,y,errx,erry):\n",
    "    slp_max = (y[len(y)-1]+erry[len(erry)-1]-y[0]+erry[0]) / (x[len(x)-1]-errx[len(errx)-1]-x[0]-errx[0])\n",
    "    slp_min = (y[len(y)-1]-erry[len(erry)-1]-y[0]-erry[0]) / (x[len(x)-1]+errx[len(errx)-1]-x[0]+errx[0])\n",
    "    yitcp_max = y[0]-slp_min*x[0]\n",
    "    yitcp_min = y[0]-slp_max*x[0]\n",
    "    slp_err = (slp_max-slp_min)/2\n",
    "    yitcp_err = (yitcp_max-yitcp_min)/2\n",
    "    return[slp_err, yitcp_err]"
   ]
  },
  {
   "cell_type": "code",
   "execution_count": 4,
   "metadata": {},
   "outputs": [
    {
     "data": {
      "image/png": "[encoded data removed]",
      "text/plain": [
       "<Figure size 864x576 with 1 Axes>"
      ]
     },
     "metadata": {
      "needs_background": "light"
     },
     "output_type": "display_data"
    },
    {
     "data": {
      "text/plain": [
       "array([ 1.12660132, -1.65880752])"
      ]
     },
     "execution_count": 4,
     "metadata": {},
     "output_type": "execute_result"
    }
   ],
   "source": [
    "#First calculate the error propagation in this square root process\n",
    "yerr = 0.5 * (0.5 * K_alpha.FWHM / K_alpha.Kline) * np.sqrt(K_alpha.Kline)\n",
    "#yerr = K_alpha.Uncertainty\n",
    "mpl.rcParams['figure.figsize'] = 12.0,8.0  \n",
    "mpl.rcParams['font.size'] = 14.0 \n",
    "\n",
    "plt.yscale('linear')  \n",
    "plt.xscale('linear')\n",
    "\n",
    "plt.xlabel(r'Atomic Number')\n",
    "plt.ylabel(r'Square root Ch 1')\n",
    "\n",
    "plt.plot(K_alpha.Ato,np.sqrt(K_alpha.Kline),\"o-b\")\n",
    "plt.errorbar(K_alpha.Ato, np.sqrt(K_alpha.Kline), yerr = yerr, capsize = 6, ecolor = 'black')\n",
    "plt.show()\n",
    "#line fit the atomic number and sqrt of Ch, returns coefficient of the polynomial\n",
    "coef = np.polyfit(K_alpha.Ato, np.sqrt(K_alpha.Kline), deg = 1)\n",
    "coef"
   ]
  },
  {
   "cell_type": "code",
   "execution_count": 14,
   "metadata": {},
   "outputs": [
    {
     "data": {
      "text/plain": [
       "[0.008036687642847373, 0.13662368992840612]"
      ]
     },
     "execution_count": 14,
     "metadata": {},
     "output_type": "execute_result"
    }
   ],
   "source": [
    "#find the uncertainty of slope and y intercept\n",
    "slp_yitcp_err = slp_yitcp_error(K_alpha['Ato'], np.sqrt(K_alpha['Kline']),errx=np.zeros(len(K_alpha['Ato'])), erry=yerr)\n",
    "slp_yitcp_err"
   ]
  },
  {
   "cell_type": "code",
   "execution_count": 6,
   "metadata": {},
   "outputs": [
    {
     "data": {
      "image/png": "[encoded data removed]",
      "text/plain": [
       "<Figure size 864x576 with 1 Axes>"
      ]
     },
     "metadata": {
      "needs_background": "light"
     },
     "output_type": "display_data"
    },
    {
     "data": {
      "text/plain": [
       "array([ 0.00855077, -0.1078123 ])"
      ]
     },
     "execution_count": 6,
     "metadata": {},
     "output_type": "execute_result"
    }
   ],
   "source": [
    "xerr = K_alpha.FWHM\n",
    "mpl.rcParams['figure.figsize'] = 12.0,8.0  \n",
    "mpl.rcParams['font.size'] = 14.0 \n",
    "\n",
    "plt.yscale('linear')  \n",
    "plt.xscale('linear')\n",
    "\n",
    "plt.xlabel(r'Channel Number')\n",
    "plt.ylabel(r'Relating Energy')\n",
    "\n",
    "plt.plot(K_alpha.Kline,K_alpha['Energy(keV)'],\"o\")\n",
    "plt.errorbar(K_alpha.Kline, K_alpha['Energy(keV)'], xerr = xerr, capsize = 6, ecolor = 'black')\n",
    "plt.show()\n",
    "#line fit Ch and its relating energy, return coefficient of the polynomial\n",
    "coef2 = np.polyfit(K_alpha.Kline, K_alpha['Energy(keV)'], deg = 1)\n",
    "coef2"
   ]
  },
  {
   "cell_type": "code",
   "execution_count": 7,
   "metadata": {},
   "outputs": [
    {
     "data": {
      "text/plain": [
       "[9.073426736910545e-05, 0.029026799474050513]"
      ]
     },
     "execution_count": 7,
     "metadata": {},
     "output_type": "execute_result"
    }
   ],
   "source": [
    "#find the uncertainty of slope and y intercept\n",
    "energy_calib_err = slp_yitcp_error(K_alpha['Kline'], K_alpha['Energy(keV)'],errx=K_alpha['FWHM'], erry=np.zeros(len(K_alpha['Energy(keV)'])))\n",
    "energy_calib_err"
   ]
  }
 ],
 "metadata": {
  "kernelspec": {
   "display_name": "Python 3",
   "language": "python",
   "name": "python3"
  },
  "language_info": {
   "codemirror_mode": {
    "name": "ipython",
    "version": 3
   },
   "file_extension": ".py",
   "mimetype": "text/x-python",
   "name": "python",
   "nbconvert_exporter": "python",
   "pygments_lexer": "ipython3",
   "version": "3.7.4"
  }
 },
 "nbformat": 4,
 "nbformat_minor": 4
}
